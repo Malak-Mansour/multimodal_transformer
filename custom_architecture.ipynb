{
 "cells": [
  {
   "cell_type": "code",
   "execution_count": null,
   "metadata": {
    "vscode": {
     "languageId": "plaintext"
    }
   },
   "outputs": [],
   "source": [
    "# Demo of Use for Pretrained Encoder\n",
    "import torch \n",
    "import torch.nn as nn\n",
    "from timm.models.vision_transformer import Block\n",
    "from Data2Seq import /MetaTransformer-master/Data2Seq/Data2Seq #code to directly get embeddings\n",
    "\n",
    "\n",
    "video_tokenizer = Data2Seq(modality='video',dim=768)\n",
    "audio_tokenizer = Data2Seq(modality='audio',dim=768)\n",
    "time_series_tokenizer = Data2Seq(modality='time-series',dim=768)\n",
    "\n",
    "features = torch.concat([video_tokenizer(video), audio_tokenizer(audio), time_series_tokenizer(time_data)],dim=1)\n",
    "\n",
    "\n",
    "# For base-scale encoder:\n",
    "ckpt = torch.load(\"Meta-Transformer_base_patch16_encoder.pth\")\n",
    "encoder = nn.Sequential(*[\n",
    "            Block(\n",
    "                dim=768,\n",
    "                num_heads=12,\n",
    "                mlp_ratio=4.,\n",
    "                qkv_bias=True,\n",
    "                norm_layer=nn.LayerNorm,\n",
    "                act_layer=nn.GELU\n",
    "            )\n",
    "            for i in range(12)])\n",
    "encoder.load_state_dict(ckpt,strict=True)\n",
    "\n",
    "\n",
    "'''\n",
    "# For large-scale encoder:\n",
    "ckpt = torch.load(\"Meta-Transformer_large_patch14_encoder.pth\")\n",
    "encoder = nn.Sequential(*[\n",
    "            Block(\n",
    "                dim=1024,\n",
    "                num_heads=16,\n",
    "                mlp_ratio=4.,\n",
    "                qkv_bias=True,\n",
    "                norm_layer=nn.LayerNorm,\n",
    "                act_layer=nn.GELU\n",
    "            )\n",
    "            for i in range(24)])\n",
    "encoder.load_state_dict(ckpt,strict=True)\n",
    "'''\n",
    "\n",
    "\n",
    "encoded_features = encoder(features)\n"
   ]
  }
 ],
 "metadata": {
  "language_info": {
   "name": "python"
  }
 },
 "nbformat": 4,
 "nbformat_minor": 2
}
